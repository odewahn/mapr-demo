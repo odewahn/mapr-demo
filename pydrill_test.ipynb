{
 "cells": [
  {
   "cell_type": "code",
   "execution_count": 2,
   "metadata": {
    "collapsed": false
   },
   "outputs": [
    {
     "name": "stdout",
     "output_type": "stream",
     "text": [
      "('[ \"foo\", \"bar\", \"baz\", \" bat\", \" hamster\" ]', )\n",
      "test successful\n"
     ]
    }
   ],
   "source": [
    "import pyodbc\n",
    "import os\n",
    " \n",
    "# initialize the connection\n",
    "conn = pyodbc.connect(\"DSN=drill\", autocommit=True)\n",
    "cursor = conn.cursor()\n",
    "\n",
    "with open('/tmp/test.csv', 'w') as f:\n",
    "    f.write(\"foo,bar,baz, bat, hamster\")\n",
    "f.close()\n",
    "  \n",
    "# setup the query and run it\n",
    "s = \"SELECT * from dfs.root.`/tmp/test.csv`\"\n",
    "\n",
    "# fetch and display filtered output\n",
    "cursor.execute(s)\n",
    "\n",
    "a = cursor.fetchall()\n",
    "j = 0\n",
    "for i in a:\n",
    "    print i\n",
    "    j += 1\n",
    "\n",
    "if (j == 1):\n",
    "    print \"test successful\"\n",
    "else:\n",
    "    print \"test failed\"\n",
    "os.remove('/tmp/test.csv')\n"
   ]
  },
  {
   "cell_type": "code",
   "execution_count": null,
   "metadata": {
    "collapsed": true
   },
   "outputs": [],
   "source": []
  }
 ],
 "metadata": {
  "kernelspec": {
   "display_name": "Python 2",
   "language": "python",
   "name": "python2"
  },
  "language_info": {
   "codemirror_mode": {
    "name": "ipython",
    "version": 2
   },
   "file_extension": ".py",
   "mimetype": "text/x-python",
   "name": "python",
   "nbconvert_exporter": "python",
   "pygments_lexer": "ipython2",
   "version": "2.7.6"
  }
 },
 "nbformat": 4,
 "nbformat_minor": 0
}
